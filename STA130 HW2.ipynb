{
  "metadata": {
    "kernelspec": {
      "name": "python",
      "display_name": "Python (Pyodide)",
      "language": "python"
    },
    "language_info": {
      "codemirror_mode": {
        "name": "python",
        "version": 3
      },
      "file_extension": ".py",
      "mimetype": "text/x-python",
      "name": "python",
      "nbconvert_exporter": "python",
      "pygments_lexer": "ipython3",
      "version": "3.8"
    }
  },
  "nbformat_minor": 5,
  "nbformat": 4,
  "cells": [
    {
      "id": "1b38a88f-c4e5-4d2d-89e1-021594aaa228",
      "cell_type": "markdown",
      "source": "3. Submit your preferred version of the Monty Hall problem that is verified to be running and working with a final printed output of the code; then, add code comments explaining the purpose of each line of the code\n\nIt already added comments, so I'll start my comments with \"## ADDED\"",
      "metadata": {}
    },
    {
      "id": "b46cffe1-f503-4708-8ddd-5a89b806011d",
      "cell_type": "code",
      "source": "import random\n\ndef monty_hall(simulations=1000, switch=True):\n    wins = 0\n\n    for _ in range(simulations):\n        # Step 1: Randomly place the car and the goats\n        doors = ['goat', 'goat', 'car']\n        random.shuffle(doors)\n        ## ADDED: Huh, I forget you can just use stuff from classes sometimes tbh, it just makes a list and randomizes them\n\n        # Step 2: Contestant makes a choice\n        contestant_choice = random.randint(0, 2) \n        ## ADDED: It picks a random index into doors, mimicking the random choice from the contestant\n\n        # Step 3: Host opens a door that has a goat (not the contestant's choice)\n        remaining_doors = [i for i in range(3) if i != contestant_choice and doors[i] == 'goat']\n        ## ADDED: Narrows down the doors for the host's choice - making a new list that doesn't include the player's choice nor any cars\n        host_opens = random.choice(remaining_doors) \n        ## ADDED: Picks a door from the remaining doors, self explanatory\n\n        # Step 4: Contestant decides to switch or stay\n        if switch:  ## ADDED: Uses the switch variable argument from calling the function (method?)\n            # Switch to the other remaining door\n            contestant_choice = next(i for i in range(3) if i != contestant_choice and i != host_opens)\n\n        # Step 5: Check if the contestant won\n        if doors[contestant_choice] == 'car':\n            wins += 1\n            ## ADDED: car = win, yay\n\n    return wins / simulations\n\n# Run the simulation\nif __name__ == \"__main__\":\n    num_simulations = 10000\n    ## ADDED: runs the simulation 10000 times twice, once for not switching, once for switching\n    win_rate_stay = monty_hall(num_simulations, switch=False)\n    win_rate_switch = monty_hall(num_simulations, switch=True) \n\n    ## ADDED: Prints results, cool\n    print(f\"Win rate when staying: {win_rate_stay:.2%}\")\n    print(f\"Win rate when switching: {win_rate_switch:.2%}\")\n    ## ADDED: This last part was totally 100% added by Chat, with no human influence, mhm\n    print(f\"yay\")\n",
      "metadata": {
        "trusted": true
      },
      "outputs": [
        {
          "name": "stdout",
          "text": "Win rate when staying: 33.67%\nWin rate when switching: 66.71%\nyay\n",
          "output_type": "stream"
        }
      ],
      "execution_count": 3
    },
    {
      "id": "7baa8c6f-6b9c-439d-91f1-e81530b379d2",
      "cell_type": "markdown",
      "source": "Q3 Chat Summary: (I'm using free version rn, can't post link, however the code is copied straight from Chat, and my prompt was \"hey write me the monte hall problem in python pls\")\n\nSure! Here’s a summary of our chat:\n\nMonty Hall Problem in Python: You asked for a Python implementation of the Monty Hall problem, which I provided. The code simulates the game show scenario and calculates win rates for both sticking with the initial choice and switching.\n\nText Art Distribution: You requested an improved printout to visualize the results using text art. I updated the code to include a function that displays the win rates as bars of asterisks, making it easier to compare the outcomes visually.\n\nIf you need anything else or further modifications, feel free to ask!",
      "metadata": {}
    },
    {
      "id": "f8a424d0-6716-4441-9e4f-fc7df159bb46",
      "cell_type": "markdown",
      "source": "6. Report on your experience interacting with ChatBots to understand the Monte Hall problem and \"Markovian ChatBot\" code\n\n1) Discuss how quickly the ChatBot was able to be helpful for each of the above questions, and if so, how?\n\nI did question 3, it gave me code, I copy pasted the code into a compiler, and the code worked out of the box.\nIt took like, 30 seconds.\n10/10 would use again.\n(I also asked it for data visualization using ascii art, but I forgot this is just, a binary choice so it wasn't very interesting). \n\n2) Discuss whether or not interacting with ChatBot to try to figure things out was frustrating or unhelpful, and if so, how?\n\nLike I said, took 30 seconds, was awesome.\n\n3) Based on your experiences to date (e.g., including using ChatBots to troubleshoot coding errors in the previous homework), provide an overall assessment evaluating the usefulness of ChatBots as tools to help you understand code\n\nI've had some bad experiences with it - I tried to get it to write Java Swing code (Swing key listeners) for me back when I was trying to make a game in java without any game libraries, and, well, it compiled (which was kind of shocking to me at the time). But uhh, unfortunately the code *only* compiled, and didn't actually do anything.\n\nI tried to get it to explain Java Swing key listeners to me so I could do it myself, and I did not understand a thing. I can't tell if this is more an impunement of Java Swing, or old chatGPT, but it's something. \n\nThat was quite old though, and aside from that Chat has been lovely. ",
      "metadata": {}
    },
    {
      "id": "fb102593-7f89-40b1-8d7a-a6aeac33ca7e",
      "cell_type": "markdown",
      "source": "7. Reflect on your experience interacting with ChatBot and describe how your perception of AI-driven assistance tools in the context of learning coding, statistics, and data science has been evolving (or not) since joining the course\n\nThis is adjacent I suppose - recently I tried to get it to help me with math, and it's great at reminding me how things work, or explaining notation, or converting things into math language, but it often hallucinates when you ask it to write proofs, or if you ask it whether something can be proven (which is useful so you don't sink an hour of work into something that's impossible), it'll just make up a proof that doesn't work. \n\nI think that's where it lies best as a tool right now - it often struggles to do synthesis work, making something new, but it'll save you lots of time and headaches with the basics. ",
      "metadata": {}
    }
  ]
}